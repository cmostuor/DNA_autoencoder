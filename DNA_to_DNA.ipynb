{
 "cells": [
  {
   "cell_type": "markdown",
   "metadata": {},
   "source": [
    "# DNA to DNA autoencoder\n",
    "by Ivan Klimuk"
   ]
  },
  {
   "cell_type": "code",
   "execution_count": 1,
   "metadata": {
    "collapsed": true
   },
   "outputs": [
    {
     "name": "stderr",
     "output_type": "stream",
     "text": [
      "/Users/ivan/Documents/Applications/anaconda3/lib/python3.6/site-packages/h5py/__init__.py:36: FutureWarning: Conversion of the second argument of issubdtype from `float` to `np.floating` is deprecated. In future, it will be treated as `np.float64 == np.dtype(float).type`.\n",
      "  from ._conv import register_converters as _register_converters\n",
      "Using TensorFlow backend.\n"
     ]
    }
   ],
   "source": [
    "# imports and stuff\n",
    "\n",
    "import pandas as pd\n",
    "import numpy as np\n",
    "from matplotlib import pyplot as plt\n",
    "from keras.layers import Input, Dense, Dropout, Lambda\n",
    "from keras.models import Model\n",
    "from keras import backend as B\n",
    "from keras import regularizers\n",
    "from keras.layers.normalization import BatchNormalization\n",
    "from keras import metrics as m"
   ]
  },
  {
   "cell_type": "markdown",
   "metadata": {},
   "source": [
    "### Define different evaluation metrics:"
   ]
  },
  {
   "cell_type": "code",
   "execution_count": 2,
   "metadata": {
    "collapsed": true
   },
   "outputs": [],
   "source": [
    "# custom evaluation metric (ratio of mistake distance to the length of the original vector)\n",
    "\n",
    "def dist_error(y_true, y_pred):\n",
    "    dist = B.sqrt(B.sum((y_true - y_pred) ** 2))\n",
    "    y_length = B.sqrt(B.sum(y ** 2))\n",
    "    \n",
    "    return dist / y_length"
   ]
  },
  {
   "cell_type": "code",
   "execution_count": 3,
   "metadata": {
    "collapsed": true
   },
   "outputs": [],
   "source": [
    "# evaluation metric (the R2 coefficient of determination)\n",
    "\n",
    "def R2_score(y_true, y_pred):\n",
    "    SS_res =  B.sum(B.square(y_true - y_pred)) \n",
    "    SS_tot = B.sum(B.square(y_true - B.mean(y_true)))\n",
    "    \n",
    "    return (1 - SS_res / (SS_tot + B.epsilon()))"
   ]
  },
  {
   "cell_type": "markdown",
   "metadata": {},
   "source": [
    "### Load the data:"
   ]
  },
  {
   "cell_type": "code",
   "execution_count": 11,
   "metadata": {},
   "outputs": [
    {
     "name": "stdout",
     "output_type": "stream",
     "text": [
      "Random DNA object:\n",
      " [3.416 3.718 3.656 3.838 3.747 3.638 3.65  3.627 4.466 3.642 3.987 3.974\n",
      " 3.749 3.639 3.672 3.999 4.394 3.785 3.864 3.806 4.22  3.55  3.53  3.651\n",
      " 3.589 4.422 3.7   3.867 4.128 3.599 3.554 3.844]\n"
     ]
    }
   ],
   "source": [
    "object_len = 32  # is necessary to exclude the first column\n",
    "\n",
    "DNA = np.loadtxt('./hta2.txt', skiprows=1, usecols=range(1, object_len + 1))\n",
    "\n",
    "print('Random DNA object:\\n', DNA[np.random.choice(range(0, len(DNA)))])"
   ]
  },
  {
   "cell_type": "code",
   "execution_count": 12,
   "metadata": {},
   "outputs": [
    {
     "name": "stdout",
     "output_type": "stream",
     "text": [
      "Maximal DNA value: 13.323\n"
     ]
    }
   ],
   "source": [
    "# find out the maximal value accross the DNA features\n",
    "\n",
    "DNA_max = np.amax(DNA)\n",
    "print('Maximal DNA value:', DNA_max)"
   ]
  },
  {
   "cell_type": "markdown",
   "metadata": {},
   "source": [
    "### Define the Autoencoder architecture"
   ]
  },
  {
   "cell_type": "code",
   "execution_count": 15,
   "metadata": {
    "collapsed": true
   },
   "outputs": [],
   "source": [
    "data_input = Input(shape=(DNA.shape[1],))\n",
    "\n",
    "normalized_input = Lambda(lambda x: x / DNA_max)(data_input)  # this lambda layer normalizes the values of the input by the maximal value in the dataset\n",
    "\n",
    "encoded = Dense(16, activation='relu')(normalized_input)\n",
    "\n",
    "normalized_output = Dense(32, activation='sigmoid')(encoded)\n",
    "\n",
    "data_output = Lambda(lambda x: x * DNA_max)(normalized_output)  # therefore this layer reverts the normalization\n",
    "\n",
    "DNA_to_DNA = Model(data_input, data_output)\n",
    "\n",
    "DNA_to_DNA.compile(optimizer='rmsprop',\n",
    "                   loss='mse',\n",
    "                   metrics=[R2_score])"
   ]
  },
  {
   "cell_type": "markdown",
   "metadata": {},
   "source": [
    "### Train the model"
   ]
  },
  {
   "cell_type": "code",
   "execution_count": 16,
   "metadata": {},
   "outputs": [
    {
     "name": "stdout",
     "output_type": "stream",
     "text": [
      "Train on 16026 samples, validate on 4007 samples\n",
      "Epoch 1/100\n",
      " - 1s - loss: 1.7122 - R2_score: 0.0441 - val_loss: 0.6066 - val_R2_score: 0.6499\n",
      "Epoch 2/100\n",
      " - 0s - loss: 0.2361 - R2_score: 0.8667 - val_loss: 0.1538 - val_R2_score: 0.9123\n",
      "Epoch 3/100\n",
      " - 0s - loss: 0.1504 - R2_score: 0.9146 - val_loss: 0.1281 - val_R2_score: 0.9265\n",
      "Epoch 4/100\n",
      " - 0s - loss: 0.1308 - R2_score: 0.9259 - val_loss: 0.1066 - val_R2_score: 0.9391\n",
      "Epoch 5/100\n",
      " - 0s - loss: 0.1187 - R2_score: 0.9330 - val_loss: 0.1160 - val_R2_score: 0.9332\n",
      "Epoch 6/100\n",
      " - 0s - loss: 0.1095 - R2_score: 0.9379 - val_loss: 0.1086 - val_R2_score: 0.9377\n",
      "Epoch 7/100\n",
      " - 0s - loss: 0.1030 - R2_score: 0.9411 - val_loss: 0.0880 - val_R2_score: 0.9495\n",
      "Epoch 8/100\n",
      " - 0s - loss: 0.0973 - R2_score: 0.9450 - val_loss: 0.0996 - val_R2_score: 0.9428\n",
      "Epoch 9/100\n",
      " - 0s - loss: 0.0928 - R2_score: 0.9474 - val_loss: 0.0851 - val_R2_score: 0.9511\n",
      "Epoch 10/100\n",
      " - 0s - loss: 0.0885 - R2_score: 0.9498 - val_loss: 0.0787 - val_R2_score: 0.9547\n",
      "Epoch 11/100\n",
      " - 0s - loss: 0.0848 - R2_score: 0.9519 - val_loss: 0.0807 - val_R2_score: 0.9536\n",
      "Epoch 12/100\n",
      " - 0s - loss: 0.0818 - R2_score: 0.9537 - val_loss: 0.0725 - val_R2_score: 0.9584\n",
      "Epoch 13/100\n",
      " - 0s - loss: 0.0788 - R2_score: 0.9550 - val_loss: 0.0695 - val_R2_score: 0.9600\n",
      "Epoch 14/100\n",
      " - 0s - loss: 0.0765 - R2_score: 0.9567 - val_loss: 0.0681 - val_R2_score: 0.9608\n",
      "Epoch 15/100\n",
      " - 0s - loss: 0.0740 - R2_score: 0.9578 - val_loss: 0.0669 - val_R2_score: 0.9615\n",
      "Epoch 16/100\n",
      " - 0s - loss: 0.0721 - R2_score: 0.9593 - val_loss: 0.0659 - val_R2_score: 0.9620\n",
      "Epoch 17/100\n",
      " - 0s - loss: 0.0702 - R2_score: 0.9603 - val_loss: 0.0729 - val_R2_score: 0.9579\n",
      "Epoch 18/100\n",
      " - 0s - loss: 0.0686 - R2_score: 0.9609 - val_loss: 0.0624 - val_R2_score: 0.9641\n",
      "Epoch 19/100\n",
      " - 0s - loss: 0.0670 - R2_score: 0.9621 - val_loss: 0.0635 - val_R2_score: 0.9635\n",
      "Epoch 20/100\n",
      " - 0s - loss: 0.0656 - R2_score: 0.9628 - val_loss: 0.0614 - val_R2_score: 0.9647\n",
      "Epoch 21/100\n",
      " - 0s - loss: 0.0643 - R2_score: 0.9632 - val_loss: 0.0601 - val_R2_score: 0.9653\n",
      "Epoch 22/100\n",
      " - 0s - loss: 0.0630 - R2_score: 0.9642 - val_loss: 0.0594 - val_R2_score: 0.9658\n",
      "Epoch 23/100\n",
      " - 0s - loss: 0.0619 - R2_score: 0.9648 - val_loss: 0.0598 - val_R2_score: 0.9656\n",
      "Epoch 24/100\n",
      " - 0s - loss: 0.0610 - R2_score: 0.9653 - val_loss: 0.0621 - val_R2_score: 0.9643\n",
      "Epoch 25/100\n",
      " - 0s - loss: 0.0597 - R2_score: 0.9663 - val_loss: 0.0642 - val_R2_score: 0.9629\n",
      "Epoch 26/100\n",
      " - 0s - loss: 0.0590 - R2_score: 0.9666 - val_loss: 0.0546 - val_R2_score: 0.9686\n",
      "Epoch 27/100\n",
      " - 0s - loss: 0.0579 - R2_score: 0.9669 - val_loss: 0.0537 - val_R2_score: 0.9691\n",
      "Epoch 28/100\n",
      " - 0s - loss: 0.0571 - R2_score: 0.9675 - val_loss: 0.0579 - val_R2_score: 0.9667\n",
      "Epoch 29/100\n",
      " - 0s - loss: 0.0563 - R2_score: 0.9679 - val_loss: 0.0529 - val_R2_score: 0.9695\n",
      "Epoch 30/100\n",
      " - 0s - loss: 0.0555 - R2_score: 0.9686 - val_loss: 0.0517 - val_R2_score: 0.9702\n",
      "Epoch 31/100\n",
      " - 0s - loss: 0.0549 - R2_score: 0.9687 - val_loss: 0.0600 - val_R2_score: 0.9653\n",
      "Epoch 32/100\n",
      " - 0s - loss: 0.0542 - R2_score: 0.9692 - val_loss: 0.0526 - val_R2_score: 0.9696\n",
      "Epoch 33/100\n",
      " - 0s - loss: 0.0536 - R2_score: 0.9697 - val_loss: 0.0527 - val_R2_score: 0.9696\n",
      "Epoch 34/100\n",
      " - 0s - loss: 0.0529 - R2_score: 0.9699 - val_loss: 0.0507 - val_R2_score: 0.9708\n",
      "Epoch 35/100\n",
      " - 0s - loss: 0.0524 - R2_score: 0.9701 - val_loss: 0.0762 - val_R2_score: 0.9561\n",
      "Epoch 36/100\n",
      " - 0s - loss: 0.0520 - R2_score: 0.9705 - val_loss: 0.0568 - val_R2_score: 0.9671\n",
      "Epoch 37/100\n",
      " - 0s - loss: 0.0514 - R2_score: 0.9707 - val_loss: 0.0511 - val_R2_score: 0.9706\n",
      "Epoch 38/100\n",
      " - 0s - loss: 0.0509 - R2_score: 0.9709 - val_loss: 0.0479 - val_R2_score: 0.9724\n",
      "Epoch 39/100\n",
      " - 0s - loss: 0.0504 - R2_score: 0.9714 - val_loss: 0.0473 - val_R2_score: 0.9727\n",
      "Epoch 40/100\n",
      " - 0s - loss: 0.0498 - R2_score: 0.9716 - val_loss: 0.0471 - val_R2_score: 0.9729\n",
      "Epoch 41/100\n",
      " - 0s - loss: 0.0495 - R2_score: 0.9720 - val_loss: 0.0472 - val_R2_score: 0.9728\n",
      "Epoch 42/100\n",
      " - 0s - loss: 0.0491 - R2_score: 0.9722 - val_loss: 0.0499 - val_R2_score: 0.9713\n",
      "Epoch 43/100\n",
      " - 0s - loss: 0.0487 - R2_score: 0.9723 - val_loss: 0.0498 - val_R2_score: 0.9713\n",
      "Epoch 44/100\n",
      " - 0s - loss: 0.0483 - R2_score: 0.9724 - val_loss: 0.0465 - val_R2_score: 0.9732\n",
      "Epoch 45/100\n",
      " - 0s - loss: 0.0479 - R2_score: 0.9727 - val_loss: 0.0471 - val_R2_score: 0.9728\n",
      "Epoch 46/100\n",
      " - 0s - loss: 0.0476 - R2_score: 0.9729 - val_loss: 0.0461 - val_R2_score: 0.9735\n",
      "Epoch 47/100\n",
      " - 0s - loss: 0.0472 - R2_score: 0.9733 - val_loss: 0.0482 - val_R2_score: 0.9721\n",
      "Epoch 48/100\n",
      " - 0s - loss: 0.0469 - R2_score: 0.9733 - val_loss: 0.0474 - val_R2_score: 0.9726\n",
      "Epoch 49/100\n",
      " - 0s - loss: 0.0466 - R2_score: 0.9737 - val_loss: 0.0494 - val_R2_score: 0.9716\n",
      "Epoch 50/100\n",
      " - 0s - loss: 0.0463 - R2_score: 0.9736 - val_loss: 0.0456 - val_R2_score: 0.9737\n",
      "Epoch 51/100\n",
      " - 0s - loss: 0.0461 - R2_score: 0.9738 - val_loss: 0.0495 - val_R2_score: 0.9715\n",
      "Epoch 52/100\n",
      " - 0s - loss: 0.0458 - R2_score: 0.9739 - val_loss: 0.0448 - val_R2_score: 0.9742\n",
      "Epoch 53/100\n",
      " - 0s - loss: 0.0455 - R2_score: 0.9741 - val_loss: 0.0449 - val_R2_score: 0.9741\n",
      "Epoch 54/100\n",
      " - 0s - loss: 0.0453 - R2_score: 0.9743 - val_loss: 0.0444 - val_R2_score: 0.9744\n",
      "Epoch 55/100\n",
      " - 0s - loss: 0.0451 - R2_score: 0.9744 - val_loss: 0.0434 - val_R2_score: 0.9750\n",
      "Epoch 56/100\n",
      " - 0s - loss: 0.0449 - R2_score: 0.9746 - val_loss: 0.0460 - val_R2_score: 0.9736\n",
      "Epoch 57/100\n",
      " - 0s - loss: 0.0447 - R2_score: 0.9746 - val_loss: 0.0461 - val_R2_score: 0.9734\n",
      "Epoch 58/100\n",
      " - 0s - loss: 0.0444 - R2_score: 0.9747 - val_loss: 0.0448 - val_R2_score: 0.9742\n",
      "Epoch 59/100\n",
      " - 0s - loss: 0.0443 - R2_score: 0.9750 - val_loss: 0.0431 - val_R2_score: 0.9752\n",
      "Epoch 60/100\n",
      " - 0s - loss: 0.0442 - R2_score: 0.9749 - val_loss: 0.0427 - val_R2_score: 0.9754\n",
      "Epoch 61/100\n",
      " - 0s - loss: 0.0440 - R2_score: 0.9750 - val_loss: 0.0433 - val_R2_score: 0.9751\n",
      "Epoch 62/100\n",
      " - 0s - loss: 0.0438 - R2_score: 0.9751 - val_loss: 0.0434 - val_R2_score: 0.9749\n",
      "Epoch 63/100\n",
      " - 0s - loss: 0.0437 - R2_score: 0.9752 - val_loss: 0.0438 - val_R2_score: 0.9747\n",
      "Epoch 64/100\n",
      " - 0s - loss: 0.0435 - R2_score: 0.9753 - val_loss: 0.0430 - val_R2_score: 0.9752\n",
      "Epoch 65/100\n",
      " - 0s - loss: 0.0434 - R2_score: 0.9753 - val_loss: 0.0424 - val_R2_score: 0.9756\n",
      "Epoch 66/100\n",
      " - 0s - loss: 0.0432 - R2_score: 0.9756 - val_loss: 0.0540 - val_R2_score: 0.9689\n",
      "Epoch 67/100\n",
      " - 0s - loss: 0.0431 - R2_score: 0.9756 - val_loss: 0.0429 - val_R2_score: 0.9752\n",
      "Epoch 68/100\n",
      " - 0s - loss: 0.0430 - R2_score: 0.9757 - val_loss: 0.0523 - val_R2_score: 0.9699\n",
      "Epoch 69/100\n",
      " - 0s - loss: 0.0428 - R2_score: 0.9758 - val_loss: 0.0448 - val_R2_score: 0.9741\n",
      "Epoch 70/100\n",
      " - 0s - loss: 0.0427 - R2_score: 0.9759 - val_loss: 0.0454 - val_R2_score: 0.9739\n",
      "Epoch 71/100\n",
      " - 0s - loss: 0.0426 - R2_score: 0.9758 - val_loss: 0.0441 - val_R2_score: 0.9746\n",
      "Epoch 72/100\n",
      " - 0s - loss: 0.0425 - R2_score: 0.9760 - val_loss: 0.0458 - val_R2_score: 0.9735\n",
      "Epoch 73/100\n",
      " - 0s - loss: 0.0424 - R2_score: 0.9759 - val_loss: 0.0430 - val_R2_score: 0.9753\n",
      "Epoch 74/100\n",
      " - 0s - loss: 0.0423 - R2_score: 0.9760 - val_loss: 0.0457 - val_R2_score: 0.9737\n",
      "Epoch 75/100\n",
      " - 0s - loss: 0.0422 - R2_score: 0.9762 - val_loss: 0.0430 - val_R2_score: 0.9753\n",
      "Epoch 76/100\n",
      " - 0s - loss: 0.0421 - R2_score: 0.9761 - val_loss: 0.0428 - val_R2_score: 0.9754\n",
      "Epoch 77/100\n",
      " - 0s - loss: 0.0420 - R2_score: 0.9761 - val_loss: 0.0422 - val_R2_score: 0.9757\n",
      "Epoch 78/100\n",
      " - 0s - loss: 0.0419 - R2_score: 0.9762 - val_loss: 0.0441 - val_R2_score: 0.9746\n",
      "Epoch 79/100\n",
      " - 0s - loss: 0.0417 - R2_score: 0.9765 - val_loss: 0.0512 - val_R2_score: 0.9703\n",
      "Epoch 80/100\n",
      " - 0s - loss: 0.0417 - R2_score: 0.9763 - val_loss: 0.0412 - val_R2_score: 0.9763\n",
      "Epoch 81/100\n",
      " - 0s - loss: 0.0416 - R2_score: 0.9763 - val_loss: 0.0449 - val_R2_score: 0.9741\n",
      "Epoch 82/100\n",
      " - 0s - loss: 0.0415 - R2_score: 0.9764 - val_loss: 0.0438 - val_R2_score: 0.9748\n",
      "Epoch 83/100\n",
      " - 0s - loss: 0.0414 - R2_score: 0.9764 - val_loss: 0.0412 - val_R2_score: 0.9763\n",
      "Epoch 84/100\n",
      " - 0s - loss: 0.0412 - R2_score: 0.9764 - val_loss: 0.0426 - val_R2_score: 0.9755\n",
      "Epoch 85/100\n",
      " - 0s - loss: 0.0412 - R2_score: 0.9765 - val_loss: 0.0415 - val_R2_score: 0.9761\n",
      "Epoch 86/100\n",
      " - 0s - loss: 0.0411 - R2_score: 0.9767 - val_loss: 0.0427 - val_R2_score: 0.9754\n",
      "Epoch 87/100\n",
      " - 0s - loss: 0.0410 - R2_score: 0.9767 - val_loss: 0.0484 - val_R2_score: 0.9720\n",
      "Epoch 88/100\n",
      " - 0s - loss: 0.0409 - R2_score: 0.9767 - val_loss: 0.0455 - val_R2_score: 0.9737\n",
      "Epoch 89/100\n",
      " - 0s - loss: 0.0409 - R2_score: 0.9767 - val_loss: 0.0418 - val_R2_score: 0.9759\n",
      "Epoch 90/100\n",
      " - 0s - loss: 0.0408 - R2_score: 0.9770 - val_loss: 0.0410 - val_R2_score: 0.9764\n",
      "Epoch 91/100\n",
      " - 0s - loss: 0.0407 - R2_score: 0.9769 - val_loss: 0.0455 - val_R2_score: 0.9739\n",
      "Epoch 92/100\n",
      " - 0s - loss: 0.0406 - R2_score: 0.9769 - val_loss: 0.0464 - val_R2_score: 0.9732\n",
      "Epoch 93/100\n",
      " - 0s - loss: 0.0405 - R2_score: 0.9770 - val_loss: 0.0434 - val_R2_score: 0.9750\n",
      "Epoch 94/100\n",
      " - 0s - loss: 0.0404 - R2_score: 0.9770 - val_loss: 0.0407 - val_R2_score: 0.9765\n",
      "Epoch 95/100\n",
      " - 0s - loss: 0.0404 - R2_score: 0.9772 - val_loss: 0.0406 - val_R2_score: 0.9767\n",
      "Epoch 96/100\n",
      " - 0s - loss: 0.0403 - R2_score: 0.9772 - val_loss: 0.0451 - val_R2_score: 0.9739\n",
      "Epoch 97/100\n",
      " - 0s - loss: 0.0403 - R2_score: 0.9772 - val_loss: 0.0424 - val_R2_score: 0.9756\n",
      "Epoch 98/100\n",
      " - 0s - loss: 0.0401 - R2_score: 0.9773 - val_loss: 0.0410 - val_R2_score: 0.9764\n",
      "Epoch 99/100\n",
      " - 0s - loss: 0.0400 - R2_score: 0.9773 - val_loss: 0.0421 - val_R2_score: 0.9757\n",
      "Epoch 100/100\n",
      " - 0s - loss: 0.0399 - R2_score: 0.9774 - val_loss: 0.0427 - val_R2_score: 0.9754\n"
     ]
    }
   ],
   "source": [
    "# model training\n",
    "\n",
    "training_history = DNA_to_DNA.fit(x=DNA, y=DNA,\n",
    "                                  epochs=100,\n",
    "                                  shuffle=True,\n",
    "                                  validation_split=0.2,\n",
    "                                  verbose=2)"
   ]
  },
  {
   "cell_type": "code",
   "execution_count": 38,
   "metadata": {
    "collapsed": true
   },
   "outputs": [],
   "source": [
    "# save the weights of our trained model\n",
    "\n",
    "DNA_weights = './models/dna_to_dna.h5'\n",
    "DNA_to_DNA.save_weights(DNA_weights)"
   ]
  },
  {
   "cell_type": "markdown",
   "metadata": {},
   "source": [
    "### Estimate the results"
   ]
  },
  {
   "cell_type": "code",
   "execution_count": 23,
   "metadata": {},
   "outputs": [
    {
     "data": {
      "image/png": "[encoded data removed]",
      "text/plain": [
       "<Figure size 1152x360 with 2 Axes>"
      ]
     },
     "metadata": {},
     "output_type": "display_data"
    }
   ],
   "source": [
    "plt.figure(figsize=(16, 5))\n",
    "\n",
    "plt.subplot(1, 2, 1)\n",
    "plt.plot(training_history.history['loss'])\n",
    "plt.title('Loss')\n",
    "\n",
    "plt.subplot(1, 2, 2)\n",
    "plt.plot(training_history.history['val_loss'])\n",
    "plt.title('validation loss')\n",
    "\n",
    "plt.show()"
   ]
  },
  {
   "cell_type": "code",
   "execution_count": 24,
   "metadata": {},
   "outputs": [
    {
     "data": {
      "image/png": "[encoded data removed]",
      "text/plain": [
       "<Figure size 432x288 with 1 Axes>"
      ]
     },
     "metadata": {},
     "output_type": "display_data"
    }
   ],
   "source": [
    "plt.plot(training_history.history['val_R2_score'])\n",
    "plt.title('Validation R2 score')\n",
    "plt.show()"
   ]
  },
  {
   "cell_type": "code",
   "execution_count": 26,
   "metadata": {},
   "outputs": [
    {
     "name": "stdout",
     "output_type": "stream",
     "text": [
      "Original object:  [6.081 5.998 5.926 5.47  5.851 6.086 5.897 6.132 5.687 6.075 5.719 6.01\n",
      " 6.128 6.233 5.625 5.656 5.601 5.87  5.595 5.489 5.646 5.504 5.916 6.962\n",
      " 6.116 6.074 7.402 6.306 5.974 6.256 6.8   6.307]\n",
      "\n",
      "Predicted object:  [[5.9236903 5.7936687 5.901278  5.488331  5.9843493 5.8380814 5.802903\n",
      "  5.991559  5.5642242 5.861719  5.656318  6.051563  6.013971  6.10403\n",
      "  5.5109215 5.458443  5.501754  5.668607  5.622676  5.4294553 5.519645\n",
      "  5.5514703 5.658404  6.4862356 6.1821723 6.3344607 7.4033847 6.4735208\n",
      "  5.9647913 6.173725  6.619918  6.1378117]]\n"
     ]
    }
   ],
   "source": [
    "# look at a random object and it's predicted values\n",
    "\n",
    "n = np.random.choice(range(len(DNA)))\n",
    "\n",
    "print('Original object: ', DNA[n])\n",
    "print()\n",
    "print('Predicted object: ', DNA_to_DNA.predict(np.array([DNA[n]])))"
   ]
  }
 ],
 "metadata": {
  "kernelspec": {
   "display_name": "Python 3",
   "language": "python",
   "name": "python3"
  },
  "language_info": {
   "codemirror_mode": {
    "name": "ipython",
    "version": 3
   },
   "file_extension": ".py",
   "mimetype": "text/x-python",
   "name": "python",
   "nbconvert_exporter": "python",
   "pygments_lexer": "ipython3",
   "version": "3.6.5"
  }
 },
 "nbformat": 4,
 "nbformat_minor": 2
}
